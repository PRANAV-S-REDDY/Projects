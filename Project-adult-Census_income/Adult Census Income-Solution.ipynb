{
 "cells": [
  {
   "cell_type": "markdown",
   "id": "3f5e3820",
   "metadata": {},
   "source": [
    "# ------------------------Adult Census Income Data Analysis---------------------------------"
   ]
  },
  {
   "cell_type": "markdown",
   "id": "8771ef8c",
   "metadata": {},
   "source": [
    "# 1.Import necessary libraries and load the dataset and display random 5 samples.  Check the info of the data and write your findings"
   ]
  },
  {
   "cell_type": "code",
   "execution_count": 5,
   "id": "1915361c",
   "metadata": {},
   "outputs": [
    {
     "data": {
      "text/html": [
       "<div>\n",
       "<style scoped>\n",
       "    .dataframe tbody tr th:only-of-type {\n",
       "        vertical-align: middle;\n",
       "    }\n",
       "\n",
       "    .dataframe tbody tr th {\n",
       "        vertical-align: top;\n",
       "    }\n",
       "\n",
       "    .dataframe thead th {\n",
       "        text-align: right;\n",
       "    }\n",
       "</style>\n",
       "<table border=\"1\" class=\"dataframe\">\n",
       "  <thead>\n",
       "    <tr style=\"text-align: right;\">\n",
       "      <th></th>\n",
       "      <th>age</th>\n",
       "      <th>workclass</th>\n",
       "      <th>fnlwgt</th>\n",
       "      <th>education</th>\n",
       "      <th>education.num</th>\n",
       "      <th>marital.status</th>\n",
       "      <th>occupation</th>\n",
       "      <th>relationship</th>\n",
       "      <th>race</th>\n",
       "      <th>sex</th>\n",
       "      <th>capital.gain</th>\n",
       "      <th>capital.loss</th>\n",
       "      <th>hours.per.week</th>\n",
       "      <th>native.country</th>\n",
       "      <th>income</th>\n",
       "    </tr>\n",
       "  </thead>\n",
       "  <tbody>\n",
       "    <tr>\n",
       "      <th>0</th>\n",
       "      <td>90</td>\n",
       "      <td>?</td>\n",
       "      <td>77053</td>\n",
       "      <td>HS-grad</td>\n",
       "      <td>9</td>\n",
       "      <td>Widowed</td>\n",
       "      <td>?</td>\n",
       "      <td>Not-in-family</td>\n",
       "      <td>White</td>\n",
       "      <td>Female</td>\n",
       "      <td>0</td>\n",
       "      <td>4356</td>\n",
       "      <td>40</td>\n",
       "      <td>United-States</td>\n",
       "      <td>&lt;=50K</td>\n",
       "    </tr>\n",
       "    <tr>\n",
       "      <th>1</th>\n",
       "      <td>82</td>\n",
       "      <td>Private</td>\n",
       "      <td>132870</td>\n",
       "      <td>HS-grad</td>\n",
       "      <td>9</td>\n",
       "      <td>Widowed</td>\n",
       "      <td>Exec-managerial</td>\n",
       "      <td>Not-in-family</td>\n",
       "      <td>White</td>\n",
       "      <td>Female</td>\n",
       "      <td>0</td>\n",
       "      <td>4356</td>\n",
       "      <td>18</td>\n",
       "      <td>United-States</td>\n",
       "      <td>&lt;=50K</td>\n",
       "    </tr>\n",
       "    <tr>\n",
       "      <th>2</th>\n",
       "      <td>66</td>\n",
       "      <td>?</td>\n",
       "      <td>186061</td>\n",
       "      <td>Some-college</td>\n",
       "      <td>10</td>\n",
       "      <td>Widowed</td>\n",
       "      <td>?</td>\n",
       "      <td>Unmarried</td>\n",
       "      <td>Black</td>\n",
       "      <td>Female</td>\n",
       "      <td>0</td>\n",
       "      <td>4356</td>\n",
       "      <td>40</td>\n",
       "      <td>United-States</td>\n",
       "      <td>&lt;=50K</td>\n",
       "    </tr>\n",
       "    <tr>\n",
       "      <th>3</th>\n",
       "      <td>54</td>\n",
       "      <td>Private</td>\n",
       "      <td>140359</td>\n",
       "      <td>7th-8th</td>\n",
       "      <td>4</td>\n",
       "      <td>Divorced</td>\n",
       "      <td>Machine-op-inspct</td>\n",
       "      <td>Unmarried</td>\n",
       "      <td>White</td>\n",
       "      <td>Female</td>\n",
       "      <td>0</td>\n",
       "      <td>3900</td>\n",
       "      <td>40</td>\n",
       "      <td>United-States</td>\n",
       "      <td>&lt;=50K</td>\n",
       "    </tr>\n",
       "    <tr>\n",
       "      <th>4</th>\n",
       "      <td>41</td>\n",
       "      <td>Private</td>\n",
       "      <td>264663</td>\n",
       "      <td>Some-college</td>\n",
       "      <td>10</td>\n",
       "      <td>Separated</td>\n",
       "      <td>Prof-specialty</td>\n",
       "      <td>Own-child</td>\n",
       "      <td>White</td>\n",
       "      <td>Female</td>\n",
       "      <td>0</td>\n",
       "      <td>3900</td>\n",
       "      <td>40</td>\n",
       "      <td>United-States</td>\n",
       "      <td>&lt;=50K</td>\n",
       "    </tr>\n",
       "    <tr>\n",
       "      <th>5</th>\n",
       "      <td>34</td>\n",
       "      <td>Private</td>\n",
       "      <td>216864</td>\n",
       "      <td>HS-grad</td>\n",
       "      <td>9</td>\n",
       "      <td>Divorced</td>\n",
       "      <td>Other-service</td>\n",
       "      <td>Unmarried</td>\n",
       "      <td>White</td>\n",
       "      <td>Female</td>\n",
       "      <td>0</td>\n",
       "      <td>3770</td>\n",
       "      <td>45</td>\n",
       "      <td>United-States</td>\n",
       "      <td>&lt;=50K</td>\n",
       "    </tr>\n",
       "  </tbody>\n",
       "</table>\n",
       "</div>"
      ],
      "text/plain": [
       "   age workclass  fnlwgt     education  education.num marital.status  \\\n",
       "0   90         ?   77053       HS-grad              9        Widowed   \n",
       "1   82   Private  132870       HS-grad              9        Widowed   \n",
       "2   66         ?  186061  Some-college             10        Widowed   \n",
       "3   54   Private  140359       7th-8th              4       Divorced   \n",
       "4   41   Private  264663  Some-college             10      Separated   \n",
       "5   34   Private  216864       HS-grad              9       Divorced   \n",
       "\n",
       "          occupation   relationship   race     sex  capital.gain  \\\n",
       "0                  ?  Not-in-family  White  Female             0   \n",
       "1    Exec-managerial  Not-in-family  White  Female             0   \n",
       "2                  ?      Unmarried  Black  Female             0   \n",
       "3  Machine-op-inspct      Unmarried  White  Female             0   \n",
       "4     Prof-specialty      Own-child  White  Female             0   \n",
       "5      Other-service      Unmarried  White  Female             0   \n",
       "\n",
       "   capital.loss  hours.per.week native.country income  \n",
       "0          4356              40  United-States  <=50K  \n",
       "1          4356              18  United-States  <=50K  \n",
       "2          4356              40  United-States  <=50K  \n",
       "3          3900              40  United-States  <=50K  \n",
       "4          3900              40  United-States  <=50K  \n",
       "5          3770              45  United-States  <=50K  "
      ]
     },
     "execution_count": 5,
     "metadata": {},
     "output_type": "execute_result"
    }
   ],
   "source": [
    "\n",
    "from IPython.display import Markdown, display\n",
    "import numpy as np\n",
    "import pandas as pd\n",
    "import matplotlib.pyplot as plt\n",
    "import seaborn as sns\n",
    "from sklearn.linear_model import LinearRegression\n",
    "%matplotlib inline\n",
    "\n",
    "\n",
    "# data\n",
    "df = pd.read_csv('adult.csv')\n",
    "\n",
    "df.head(6)\n",
    "\n"
   ]
  },
  {
   "cell_type": "code",
   "execution_count": 2,
   "id": "108aecc4",
   "metadata": {
    "scrolled": true
   },
   "outputs": [
    {
     "name": "stdout",
     "output_type": "stream",
     "text": [
      "<class 'pandas.core.frame.DataFrame'>\n",
      "RangeIndex: 32561 entries, 0 to 32560\n",
      "Data columns (total 15 columns):\n",
      " #   Column          Non-Null Count  Dtype \n",
      "---  ------          --------------  ----- \n",
      " 0   age             32561 non-null  int64 \n",
      " 1   workclass       32561 non-null  object\n",
      " 2   fnlwgt          32561 non-null  int64 \n",
      " 3   education       32561 non-null  object\n",
      " 4   education.num   32561 non-null  int64 \n",
      " 5   marital.status  32561 non-null  object\n",
      " 6   occupation      32561 non-null  object\n",
      " 7   relationship    32561 non-null  object\n",
      " 8   race            32561 non-null  object\n",
      " 9   sex             32561 non-null  object\n",
      " 10  capital.gain    32561 non-null  int64 \n",
      " 11  capital.loss    32561 non-null  int64 \n",
      " 12  hours.per.week  32561 non-null  int64 \n",
      " 13  native.country  32561 non-null  object\n",
      " 14  income          32561 non-null  object\n",
      "dtypes: int64(6), object(9)\n",
      "memory usage: 3.7+ MB\n",
      "\n",
      "Categorical and Numerical features\n",
      "\n",
      "Categorical(object)\n",
      "    - workclass \n",
      "    - education \n",
      "    - marital.status \n",
      "    - occupation \n",
      "    - relationship \n",
      "    - race \n",
      "    - sex \n",
      "    - native.country \n",
      "    - income \n",
      "    \n",
      "Numerical features (int)\n",
      "    - age \n",
      "    - fnlwgt\n",
      "    - education.num\n",
      "    - capital.gain\n",
      "    - capital.loss\n",
      "    - hours.per.week\n",
      "----------------------------------\n",
      "    - sex (male:1, female:0)\n",
      "    - income (<=50K:0, >50K:1)\n",
      "    \n",
      "\n",
      "\n"
     ]
    }
   ],
   "source": [
    "# info the dataset\n",
    "df.info()\n",
    "\n",
    "# findings\n",
    "print('''\n",
    "Categorical and Numerical features\n",
    "\n",
    "Categorical(object)\n",
    "    - workclass \n",
    "    - education \n",
    "    - marital.status \n",
    "    - occupation \n",
    "    - relationship \n",
    "    - race \n",
    "    - sex \n",
    "    - native.country \n",
    "    - income \n",
    "    \n",
    "Numerical features (int)\n",
    "    - age \n",
    "    - fnlwgt\n",
    "    - education.num\n",
    "    - capital.gain\n",
    "    - capital.loss\n",
    "    - hours.per.week\n",
    "----------------------------------\n",
    "    - sex (male:1, female:0)\n",
    "    - income (<=50K:0, >50K:1)\n",
    "    \n",
    "\n",
    "''')\n",
    "\n"
   ]
  },
  {
   "cell_type": "markdown",
   "id": "ccc8116f",
   "metadata": {},
   "source": [
    "# ●\tExploratory Data Analysis "
   ]
  },
  {
   "cell_type": "code",
   "execution_count": 3,
   "id": "55593089",
   "metadata": {},
   "outputs": [
    {
     "data": {
      "text/html": [
       "<div>\n",
       "<style scoped>\n",
       "    .dataframe tbody tr th:only-of-type {\n",
       "        vertical-align: middle;\n",
       "    }\n",
       "\n",
       "    .dataframe tbody tr th {\n",
       "        vertical-align: top;\n",
       "    }\n",
       "\n",
       "    .dataframe thead th {\n",
       "        text-align: right;\n",
       "    }\n",
       "</style>\n",
       "<table border=\"1\" class=\"dataframe\">\n",
       "  <thead>\n",
       "    <tr style=\"text-align: right;\">\n",
       "      <th></th>\n",
       "      <th>age</th>\n",
       "      <th>workclass</th>\n",
       "      <th>fnlwgt</th>\n",
       "      <th>education</th>\n",
       "      <th>education.num</th>\n",
       "      <th>marital.status</th>\n",
       "      <th>occupation</th>\n",
       "      <th>relationship</th>\n",
       "      <th>race</th>\n",
       "      <th>sex</th>\n",
       "      <th>capital.gain</th>\n",
       "      <th>capital.loss</th>\n",
       "      <th>hours.per.week</th>\n",
       "      <th>native.country</th>\n",
       "      <th>income</th>\n",
       "    </tr>\n",
       "  </thead>\n",
       "  <tbody>\n",
       "    <tr>\n",
       "      <th>0</th>\n",
       "      <td>90</td>\n",
       "      <td>NaN</td>\n",
       "      <td>77053</td>\n",
       "      <td>HS-grad</td>\n",
       "      <td>9</td>\n",
       "      <td>Widowed</td>\n",
       "      <td>NaN</td>\n",
       "      <td>Not-in-family</td>\n",
       "      <td>White</td>\n",
       "      <td>Female</td>\n",
       "      <td>0</td>\n",
       "      <td>4356</td>\n",
       "      <td>40</td>\n",
       "      <td>United-States</td>\n",
       "      <td>&lt;=50K</td>\n",
       "    </tr>\n",
       "    <tr>\n",
       "      <th>1</th>\n",
       "      <td>82</td>\n",
       "      <td>Private</td>\n",
       "      <td>132870</td>\n",
       "      <td>HS-grad</td>\n",
       "      <td>9</td>\n",
       "      <td>Widowed</td>\n",
       "      <td>Exec-managerial</td>\n",
       "      <td>Not-in-family</td>\n",
       "      <td>White</td>\n",
       "      <td>Female</td>\n",
       "      <td>0</td>\n",
       "      <td>4356</td>\n",
       "      <td>18</td>\n",
       "      <td>United-States</td>\n",
       "      <td>&lt;=50K</td>\n",
       "    </tr>\n",
       "    <tr>\n",
       "      <th>2</th>\n",
       "      <td>66</td>\n",
       "      <td>NaN</td>\n",
       "      <td>186061</td>\n",
       "      <td>Some-college</td>\n",
       "      <td>10</td>\n",
       "      <td>Widowed</td>\n",
       "      <td>NaN</td>\n",
       "      <td>Unmarried</td>\n",
       "      <td>Black</td>\n",
       "      <td>Female</td>\n",
       "      <td>0</td>\n",
       "      <td>4356</td>\n",
       "      <td>40</td>\n",
       "      <td>United-States</td>\n",
       "      <td>&lt;=50K</td>\n",
       "    </tr>\n",
       "    <tr>\n",
       "      <th>3</th>\n",
       "      <td>54</td>\n",
       "      <td>Private</td>\n",
       "      <td>140359</td>\n",
       "      <td>7th-8th</td>\n",
       "      <td>4</td>\n",
       "      <td>Divorced</td>\n",
       "      <td>Machine-op-inspct</td>\n",
       "      <td>Unmarried</td>\n",
       "      <td>White</td>\n",
       "      <td>Female</td>\n",
       "      <td>0</td>\n",
       "      <td>3900</td>\n",
       "      <td>40</td>\n",
       "      <td>United-States</td>\n",
       "      <td>&lt;=50K</td>\n",
       "    </tr>\n",
       "    <tr>\n",
       "      <th>4</th>\n",
       "      <td>41</td>\n",
       "      <td>Private</td>\n",
       "      <td>264663</td>\n",
       "      <td>Some-college</td>\n",
       "      <td>10</td>\n",
       "      <td>Separated</td>\n",
       "      <td>Prof-specialty</td>\n",
       "      <td>Own-child</td>\n",
       "      <td>White</td>\n",
       "      <td>Female</td>\n",
       "      <td>0</td>\n",
       "      <td>3900</td>\n",
       "      <td>40</td>\n",
       "      <td>United-States</td>\n",
       "      <td>&lt;=50K</td>\n",
       "    </tr>\n",
       "    <tr>\n",
       "      <th>...</th>\n",
       "      <td>...</td>\n",
       "      <td>...</td>\n",
       "      <td>...</td>\n",
       "      <td>...</td>\n",
       "      <td>...</td>\n",
       "      <td>...</td>\n",
       "      <td>...</td>\n",
       "      <td>...</td>\n",
       "      <td>...</td>\n",
       "      <td>...</td>\n",
       "      <td>...</td>\n",
       "      <td>...</td>\n",
       "      <td>...</td>\n",
       "      <td>...</td>\n",
       "      <td>...</td>\n",
       "    </tr>\n",
       "    <tr>\n",
       "      <th>32556</th>\n",
       "      <td>22</td>\n",
       "      <td>Private</td>\n",
       "      <td>310152</td>\n",
       "      <td>Some-college</td>\n",
       "      <td>10</td>\n",
       "      <td>Never-married</td>\n",
       "      <td>Protective-serv</td>\n",
       "      <td>Not-in-family</td>\n",
       "      <td>White</td>\n",
       "      <td>Male</td>\n",
       "      <td>0</td>\n",
       "      <td>0</td>\n",
       "      <td>40</td>\n",
       "      <td>United-States</td>\n",
       "      <td>&lt;=50K</td>\n",
       "    </tr>\n",
       "    <tr>\n",
       "      <th>32557</th>\n",
       "      <td>27</td>\n",
       "      <td>Private</td>\n",
       "      <td>257302</td>\n",
       "      <td>Assoc-acdm</td>\n",
       "      <td>12</td>\n",
       "      <td>Married-civ-spouse</td>\n",
       "      <td>Tech-support</td>\n",
       "      <td>Wife</td>\n",
       "      <td>White</td>\n",
       "      <td>Female</td>\n",
       "      <td>0</td>\n",
       "      <td>0</td>\n",
       "      <td>38</td>\n",
       "      <td>United-States</td>\n",
       "      <td>&lt;=50K</td>\n",
       "    </tr>\n",
       "    <tr>\n",
       "      <th>32558</th>\n",
       "      <td>40</td>\n",
       "      <td>Private</td>\n",
       "      <td>154374</td>\n",
       "      <td>HS-grad</td>\n",
       "      <td>9</td>\n",
       "      <td>Married-civ-spouse</td>\n",
       "      <td>Machine-op-inspct</td>\n",
       "      <td>Husband</td>\n",
       "      <td>White</td>\n",
       "      <td>Male</td>\n",
       "      <td>0</td>\n",
       "      <td>0</td>\n",
       "      <td>40</td>\n",
       "      <td>United-States</td>\n",
       "      <td>&gt;50K</td>\n",
       "    </tr>\n",
       "    <tr>\n",
       "      <th>32559</th>\n",
       "      <td>58</td>\n",
       "      <td>Private</td>\n",
       "      <td>151910</td>\n",
       "      <td>HS-grad</td>\n",
       "      <td>9</td>\n",
       "      <td>Widowed</td>\n",
       "      <td>Adm-clerical</td>\n",
       "      <td>Unmarried</td>\n",
       "      <td>White</td>\n",
       "      <td>Female</td>\n",
       "      <td>0</td>\n",
       "      <td>0</td>\n",
       "      <td>40</td>\n",
       "      <td>United-States</td>\n",
       "      <td>&lt;=50K</td>\n",
       "    </tr>\n",
       "    <tr>\n",
       "      <th>32560</th>\n",
       "      <td>22</td>\n",
       "      <td>Private</td>\n",
       "      <td>201490</td>\n",
       "      <td>HS-grad</td>\n",
       "      <td>9</td>\n",
       "      <td>Never-married</td>\n",
       "      <td>Adm-clerical</td>\n",
       "      <td>Own-child</td>\n",
       "      <td>White</td>\n",
       "      <td>Male</td>\n",
       "      <td>0</td>\n",
       "      <td>0</td>\n",
       "      <td>20</td>\n",
       "      <td>United-States</td>\n",
       "      <td>&lt;=50K</td>\n",
       "    </tr>\n",
       "  </tbody>\n",
       "</table>\n",
       "<p>32561 rows × 15 columns</p>\n",
       "</div>"
      ],
      "text/plain": [
       "       age workclass  fnlwgt     education  education.num      marital.status  \\\n",
       "0       90       NaN   77053       HS-grad              9             Widowed   \n",
       "1       82   Private  132870       HS-grad              9             Widowed   \n",
       "2       66       NaN  186061  Some-college             10             Widowed   \n",
       "3       54   Private  140359       7th-8th              4            Divorced   \n",
       "4       41   Private  264663  Some-college             10           Separated   \n",
       "...    ...       ...     ...           ...            ...                 ...   \n",
       "32556   22   Private  310152  Some-college             10       Never-married   \n",
       "32557   27   Private  257302    Assoc-acdm             12  Married-civ-spouse   \n",
       "32558   40   Private  154374       HS-grad              9  Married-civ-spouse   \n",
       "32559   58   Private  151910       HS-grad              9             Widowed   \n",
       "32560   22   Private  201490       HS-grad              9       Never-married   \n",
       "\n",
       "              occupation   relationship   race     sex  capital.gain  \\\n",
       "0                    NaN  Not-in-family  White  Female             0   \n",
       "1        Exec-managerial  Not-in-family  White  Female             0   \n",
       "2                    NaN      Unmarried  Black  Female             0   \n",
       "3      Machine-op-inspct      Unmarried  White  Female             0   \n",
       "4         Prof-specialty      Own-child  White  Female             0   \n",
       "...                  ...            ...    ...     ...           ...   \n",
       "32556    Protective-serv  Not-in-family  White    Male             0   \n",
       "32557       Tech-support           Wife  White  Female             0   \n",
       "32558  Machine-op-inspct        Husband  White    Male             0   \n",
       "32559       Adm-clerical      Unmarried  White  Female             0   \n",
       "32560       Adm-clerical      Own-child  White    Male             0   \n",
       "\n",
       "       capital.loss  hours.per.week native.country income  \n",
       "0              4356              40  United-States  <=50K  \n",
       "1              4356              18  United-States  <=50K  \n",
       "2              4356              40  United-States  <=50K  \n",
       "3              3900              40  United-States  <=50K  \n",
       "4              3900              40  United-States  <=50K  \n",
       "...             ...             ...            ...    ...  \n",
       "32556             0              40  United-States  <=50K  \n",
       "32557             0              38  United-States  <=50K  \n",
       "32558             0              40  United-States   >50K  \n",
       "32559             0              40  United-States  <=50K  \n",
       "32560             0              20  United-States  <=50K  \n",
       "\n",
       "[32561 rows x 15 columns]"
      ]
     },
     "execution_count": 3,
     "metadata": {},
     "output_type": "execute_result"
    }
   ],
   "source": [
    "# Replace \" ? \" by NaN (Handling ' ? ' symbols)\n",
    "\n",
    "\n",
    "df.replace(\"?\", np.nan, inplace = True)\n",
    "df"
   ]
  },
  {
   "cell_type": "code",
   "execution_count": 4,
   "id": "ce057afe",
   "metadata": {},
   "outputs": [
    {
     "data": {
      "text/plain": [
       "age                  0\n",
       "workclass         1836\n",
       "fnlwgt               0\n",
       "education            0\n",
       "education.num        0\n",
       "marital.status       0\n",
       "occupation        1843\n",
       "relationship         0\n",
       "race                 0\n",
       "sex                  0\n",
       "capital.gain         0\n",
       "capital.loss         0\n",
       "hours.per.week       0\n",
       "native.country     583\n",
       "income               0\n",
       "dtype: int64"
      ]
     },
     "execution_count": 4,
     "metadata": {},
     "output_type": "execute_result"
    }
   ],
   "source": [
    "\n",
    "# Check for missing Data\n",
    "\n",
    "missing_data = df.isnull()\n",
    "missing_data.sum()\n"
   ]
  },
  {
   "cell_type": "code",
   "execution_count": 5,
   "id": "4ed4a438",
   "metadata": {},
   "outputs": [
    {
     "name": "stdout",
     "output_type": "stream",
     "text": [
      "Mode of workclass:  Private\n",
      "Mode of Occupation:  Prof-specialty\n",
      "Mode of natice.country:  United-States\n"
     ]
    }
   ],
   "source": [
    "# Deal with missing data\n",
    "# Replace by  Mode\n",
    "\n",
    "# Calculate Mode\n",
    "workclass_mode = df['workclass'].value_counts().idxmax()\n",
    "occupation_mode = df['occupation'].value_counts().idxmax()\n",
    "native_country_mode = df['native.country'].value_counts().idxmax()\n",
    "\n",
    "\n",
    "print(\"Mode of workclass: \",workclass_mode)\n",
    "print(\"Mode of Occupation: \",occupation_mode)\n",
    "print(\"Mode of natice.country: \",native_country_mode)"
   ]
  },
  {
   "cell_type": "code",
   "execution_count": 6,
   "id": "bf0ab399",
   "metadata": {},
   "outputs": [],
   "source": [
    "#replace the missing categorical values by the most frequent value\n",
    "\n",
    "df[\"workclass\"].replace(np.nan, workclass_mode, inplace = True)\n",
    "df[\"occupation\"].replace(np.nan, occupation_mode, inplace = True)\n",
    "df[\"native.country\"].replace(np.nan, native_country_mode, inplace = True)"
   ]
  },
  {
   "cell_type": "code",
   "execution_count": 7,
   "id": "efa1ec1b",
   "metadata": {},
   "outputs": [],
   "source": [
    "# one-hot-encoding : sex | income features\n",
    "df.sex.value_counts()  # male (21790) | female (10771) => male = 1, female = 0\n",
    "df.income.value_counts()  # <=50K (24720) | >50K (7841) => <50K = 1, >50K = 0\n",
    "\n",
    "df.sex.replace({'Male': 1, 'Female': 0}, inplace=True)  # sex feature\n",
    "df.income.replace({'<=50K': 1, '>50K': 0}, inplace=True)  # income feature\n"
   ]
  },
  {
   "cell_type": "markdown",
   "id": "63aa8f1b",
   "metadata": {},
   "source": [
    "# 2.What is the average age of males and females in the data? "
   ]
  },
  {
   "cell_type": "code",
   "execution_count": 8,
   "id": "da2aeb44",
   "metadata": {},
   "outputs": [
    {
     "name": "stdout",
     "output_type": "stream",
     "text": [
      "AVERAGE AGE OF MALES and FEMALES\n"
     ]
    },
    {
     "data": {
      "text/html": [
       "<div>\n",
       "<style scoped>\n",
       "    .dataframe tbody tr th:only-of-type {\n",
       "        vertical-align: middle;\n",
       "    }\n",
       "\n",
       "    .dataframe tbody tr th {\n",
       "        vertical-align: top;\n",
       "    }\n",
       "\n",
       "    .dataframe thead th {\n",
       "        text-align: right;\n",
       "    }\n",
       "</style>\n",
       "<table border=\"1\" class=\"dataframe\">\n",
       "  <thead>\n",
       "    <tr style=\"text-align: right;\">\n",
       "      <th></th>\n",
       "      <th>sex</th>\n",
       "      <th>age</th>\n",
       "    </tr>\n",
       "  </thead>\n",
       "  <tbody>\n",
       "    <tr>\n",
       "      <th>0</th>\n",
       "      <td>0</td>\n",
       "      <td>36.858230</td>\n",
       "    </tr>\n",
       "    <tr>\n",
       "      <th>1</th>\n",
       "      <td>1</td>\n",
       "      <td>39.433547</td>\n",
       "    </tr>\n",
       "  </tbody>\n",
       "</table>\n",
       "</div>"
      ],
      "text/plain": [
       "   sex        age\n",
       "0    0  36.858230\n",
       "1    1  39.433547"
      ]
     },
     "execution_count": 8,
     "metadata": {},
     "output_type": "execute_result"
    }
   ],
   "source": [
    "print (\"AVERAGE AGE OF MALES and FEMALES\")\n",
    "\n",
    "\n",
    "df.groupby('sex').age.mean().to_frame().reset_index(drop=False)\n",
    "\n",
    "\n"
   ]
  },
  {
   "cell_type": "markdown",
   "id": "f9226a97",
   "metadata": {},
   "source": [
    "# 3.Identify the qualifications of most of the individuals and display it using an appropriate plot"
   ]
  },
  {
   "cell_type": "code",
   "execution_count": 9,
   "id": "e942c6ef",
   "metadata": {},
   "outputs": [
    {
     "name": "stdout",
     "output_type": "stream",
     "text": [
      "HS-grad- qualification is having most of the individual of 10501\n",
      "HS-grad         10501\n",
      "Some-college     7291\n",
      "Bachelors        5355\n",
      "Masters          1723\n",
      "Assoc-voc        1382\n",
      "11th             1175\n",
      "Assoc-acdm       1067\n",
      "10th              933\n",
      "7th-8th           646\n",
      "Prof-school       576\n",
      "9th               514\n",
      "12th              433\n",
      "Doctorate         413\n",
      "5th-6th           333\n",
      "1st-4th           168\n",
      "Preschool          51\n",
      "Name: education, dtype: int64\n"
     ]
    },
    {
     "data": {
      "image/png": "[encoded data removed]",
      "text/plain": [
       "<Figure size 640x480 with 1 Axes>"
      ]
     },
     "metadata": {},
     "output_type": "display_data"
    },
    {
     "data": {
      "image/png": "[encoded data removed]",
      "text/plain": [
       "<Figure size 640x480 with 1 Axes>"
      ]
     },
     "metadata": {},
     "output_type": "display_data"
    }
   ],
   "source": [
    "\n",
    "print(\"HS-grad- qualification is having most of the individual of 10501\")\n",
    "\n",
    "# plot\n",
    "data = df.education.value_counts()\n",
    "print(data)\n",
    "\n",
    "fig = plt.figure()\n",
    "ax = fig.add_axes([0,0,1,2])\n",
    "ax.axis('equal')\n",
    "ax.pie(data,labels=data.index,autopct='%1.2f%%', explode=[0,0,0,2.0,2.0,2.0,2.0,2.0,2.0,2.0,2.0,2.0,2.0,2.0,2.0,1.75])\n",
    "plt.title('Education ')\n",
    "plt.show()\n",
    "\n",
    "plt.barh(data.index,data.values)\n",
    "plt.ylabel('Education')\n",
    "plt.xlabel('Counts')\n",
    "plt.title('Education ')\n",
    "plt.show()"
   ]
  },
  {
   "cell_type": "markdown",
   "id": "f5a178e5",
   "metadata": {},
   "source": [
    "# 4.Find the middle most observation of age for different working classes"
   ]
  },
  {
   "cell_type": "code",
   "execution_count": 10,
   "id": "6878f7c4",
   "metadata": {},
   "outputs": [
    {
     "name": "stdout",
     "output_type": "stream",
     "text": [
      "Middle most observation of age for particular working classes\n"
     ]
    },
    {
     "data": {
      "text/html": [
       "<div>\n",
       "<style scoped>\n",
       "    .dataframe tbody tr th:only-of-type {\n",
       "        vertical-align: middle;\n",
       "    }\n",
       "\n",
       "    .dataframe tbody tr th {\n",
       "        vertical-align: top;\n",
       "    }\n",
       "\n",
       "    .dataframe thead th {\n",
       "        text-align: right;\n",
       "    }\n",
       "</style>\n",
       "<table border=\"1\" class=\"dataframe\">\n",
       "  <thead>\n",
       "    <tr style=\"text-align: right;\">\n",
       "      <th></th>\n",
       "      <th>workclass</th>\n",
       "      <th>age</th>\n",
       "    </tr>\n",
       "  </thead>\n",
       "  <tbody>\n",
       "    <tr>\n",
       "      <th>0</th>\n",
       "      <td>Federal-gov</td>\n",
       "      <td>43</td>\n",
       "    </tr>\n",
       "    <tr>\n",
       "      <th>1</th>\n",
       "      <td>Local-gov</td>\n",
       "      <td>41</td>\n",
       "    </tr>\n",
       "    <tr>\n",
       "      <th>2</th>\n",
       "      <td>Never-worked</td>\n",
       "      <td>18</td>\n",
       "    </tr>\n",
       "    <tr>\n",
       "      <th>3</th>\n",
       "      <td>Private</td>\n",
       "      <td>35</td>\n",
       "    </tr>\n",
       "    <tr>\n",
       "      <th>4</th>\n",
       "      <td>Self-emp-inc</td>\n",
       "      <td>45</td>\n",
       "    </tr>\n",
       "    <tr>\n",
       "      <th>5</th>\n",
       "      <td>Self-emp-not-inc</td>\n",
       "      <td>44</td>\n",
       "    </tr>\n",
       "    <tr>\n",
       "      <th>6</th>\n",
       "      <td>State-gov</td>\n",
       "      <td>39</td>\n",
       "    </tr>\n",
       "    <tr>\n",
       "      <th>7</th>\n",
       "      <td>Without-pay</td>\n",
       "      <td>57</td>\n",
       "    </tr>\n",
       "  </tbody>\n",
       "</table>\n",
       "</div>"
      ],
      "text/plain": [
       "          workclass  age\n",
       "0       Federal-gov   43\n",
       "1         Local-gov   41\n",
       "2      Never-worked   18\n",
       "3           Private   35\n",
       "4      Self-emp-inc   45\n",
       "5  Self-emp-not-inc   44\n",
       "6         State-gov   39\n",
       "7       Without-pay   57"
      ]
     },
     "execution_count": 10,
     "metadata": {},
     "output_type": "execute_result"
    }
   ],
   "source": [
    "\n",
    "print('Middle most observation of age for particular working classes')\n",
    "\n",
    "pd.pivot_table(data=df,index='workclass',values='age',aggfunc={'age':np.median}).reset_index()\n",
    "\n"
   ]
  },
  {
   "cell_type": "markdown",
   "id": "04c15a64",
   "metadata": {},
   "source": [
    "# 5.What is the percentage of the Asian-Pac-Islander race people in the data?"
   ]
  },
  {
   "cell_type": "code",
   "execution_count": 11,
   "id": "0a5fc00b",
   "metadata": {},
   "outputs": [
    {
     "name": "stdout",
     "output_type": "stream",
     "text": [
      "There are 3.190 % of the Asian-Pac-Islander race people in the data\n"
     ]
    },
    {
     "data": {
      "text/plain": [
       "3.190933939375326"
      ]
     },
     "execution_count": 11,
     "metadata": {},
     "output_type": "execute_result"
    }
   ],
   "source": [
    "\n",
    "print('There are 3.190 % of the Asian-Pac-Islander race people in the data')\n",
    "\n",
    "df['race'].value_counts()['Asian-Pac-Islander']*100/df['race'].count()"
   ]
  },
  {
   "cell_type": "markdown",
   "id": "b7e62816",
   "metadata": {},
   "source": [
    "# 6.Which occupation has more variability in the working hours? "
   ]
  },
  {
   "cell_type": "code",
   "execution_count": 24,
   "id": "076d9a74",
   "metadata": {},
   "outputs": [
    {
     "name": "stdout",
     "output_type": "stream",
     "text": [
      "           occupation  hours.per.week\n",
      "0        Adm-clerical       91.964888\n",
      "1        Armed-Forces      198.000000\n",
      "2        Craft-repair       81.939394\n",
      "3     Exec-managerial      123.412395\n",
      "4     Farming-fishing      299.987814\n",
      "5   Handlers-cleaners      111.946104\n",
      "6   Machine-op-inspct       57.648955\n",
      "7       Other-service      161.442544\n",
      "8     Priv-house-serv      261.939597\n",
      "9      Prof-specialty      200.595304\n",
      "10    Protective-serv      152.072728\n",
      "11              Sales      175.202547\n",
      "12       Tech-support      112.001859\n",
      "13   Transport-moving      161.833503\n",
      "Doctorate- occupation has more variability in the working hours with 227.54\n"
     ]
    }
   ],
   "source": [
    "\n",
    "data = df[['hours.per.week','occupation']].groupby('occupation').agg('var').reset_index()\n",
    "print(data)\n",
    "\n",
    "print(\"Doctorate- occupation has more variability in the working hours with 227.54\")"
   ]
  },
  {
   "cell_type": "markdown",
   "id": "1c43558c",
   "metadata": {},
   "source": [
    "# 7.What is the range of the middle 50% of working hours per week?"
   ]
  },
  {
   "cell_type": "code",
   "execution_count": 13,
   "id": "dd21d311",
   "metadata": {},
   "outputs": [
    {
     "name": "stdout",
     "output_type": "stream",
     "text": [
      "The range of middle 50% is 40.0 of working hours per week\n"
     ]
    }
   ],
   "source": [
    "data = df['hours.per.week'].describe()  \n",
    "\n",
    "data = df['hours.per.week'].quantile(0.50) \n",
    "print(f\"The range of middle 50% is {data} of working hours per week\")\n"
   ]
  },
  {
   "cell_type": "markdown",
   "id": "c6fbfbbf",
   "metadata": {},
   "source": [
    "# 8. Are there any negatively skewed features? Support your answer with a metric and the plot."
   ]
  },
  {
   "cell_type": "code",
   "execution_count": 14,
   "id": "cf7d7679",
   "metadata": {},
   "outputs": [
    {
     "name": "stderr",
     "output_type": "stream",
     "text": [
      "C:\\Users\\prana\\AppData\\Local\\Temp\\ipykernel_24836\\1665899112.py:1: FutureWarning: The default value of numeric_only in DataFrame.skew is deprecated. In a future version, it will default to False. In addition, specifying 'numeric_only=None' is deprecated. Select only valid columns or specify the value of numeric_only to silence this warning.\n",
      "  df.skew()\n"
     ]
    },
    {
     "data": {
      "text/plain": [
       "age                0.558743\n",
       "fnlwgt             1.446980\n",
       "education.num     -0.311676\n",
       "sex               -0.719293\n",
       "capital.gain      11.953848\n",
       "capital.loss       4.594629\n",
       "hours.per.week     0.227643\n",
       "income            -1.212430\n",
       "dtype: float64"
      ]
     },
     "execution_count": 14,
     "metadata": {},
     "output_type": "execute_result"
    }
   ],
   "source": [
    "df.skew()"
   ]
  },
  {
   "cell_type": "code",
   "execution_count": 26,
   "id": "e05405e2",
   "metadata": {},
   "outputs": [
    {
     "data": {
      "image/png": "[encoded data removed]",
      "text/plain": [
       "<Figure size 640x480 with 1 Axes>"
      ]
     },
     "metadata": {},
     "output_type": "display_data"
    }
   ],
   "source": [
    "\n",
    "data = df.skew(numeric_only=True)\n",
    "data = data[data < 0]\n",
    "\n",
    "\n",
    "\n",
    "# plot\n",
    "df[data.index[0]].plot(kind='hist')\n",
    "plt.title(data.index[0])\n",
    "plt.show()"
   ]
  },
  {
   "cell_type": "markdown",
   "id": "ed542614",
   "metadata": {},
   "source": [
    "# 9.Identify the presence of extreme values in age using visualization techniques."
   ]
  },
  {
   "cell_type": "code",
   "execution_count": 16,
   "id": "a98a668f",
   "metadata": {},
   "outputs": [
    {
     "data": {
      "image/png": "[encoded data removed]",
      "text/plain": [
       "<Figure size 640x480 with 1 Axes>"
      ]
     },
     "metadata": {},
     "output_type": "display_data"
    }
   ],
   "source": [
    "sns.boxplot(df['age']) # boxplot is efficient and clean to represent the outliers\n",
    "plt.title('The presence of Extreme values in age feature')\n",
    "plt.show()"
   ]
  },
  {
   "cell_type": "markdown",
   "id": "8377b90b",
   "metadata": {},
   "source": [
    "# 10.Is there any effect of age on the working hours of a person? Support your answer with a metric and the plot."
   ]
  },
  {
   "cell_type": "code",
   "execution_count": 17,
   "id": "fcc1804a",
   "metadata": {},
   "outputs": [
    {
     "name": "stdout",
     "output_type": "stream",
     "text": [
      "There is a cause and effect relationship between age on a particular working hours of a person\n",
      "but we can say there is a association of 0.06876\n",
      "Inorder to support the above theory we have to use linear regression to check whether there is any effect or not\n",
      "The weight of the age towards hours.per.week is 0.06\n",
      "so we can say,there is a increase in age the impact of hours.per.weeek is 0.06\n"
     ]
    },
    {
     "data": {
      "image/png": "[encoded data removed]",
      "text/plain": [
       "<Figure size 640x480 with 2 Axes>"
      ]
     },
     "metadata": {},
     "output_type": "display_data"
    }
   ],
   "source": [
    "print('''There is a cause and effect relationship between age on a particular working hours of a person\n",
    "but we can say there is a association of 0.06876\n",
    "Inorder to support the above theory we have to use linear regression to check whether there is any effect or not\n",
    "The weight of the age towards hours.per.week is 0.06\n",
    "so we can say,there is a increase in age the impact of hours.per.weeek is 0.06''')\n",
    "      \n",
    "# plot : heat maps\n",
    "sns.heatmap(df[['age', 'hours.per.week']].corr(), annot=True)\n",
    "plt.show()"
   ]
  },
  {
   "cell_type": "markdown",
   "id": "6359ba68",
   "metadata": {},
   "source": [
    "# 11.Is there any individual with age less than 18 and capital loss less than 100?"
   ]
  },
  {
   "cell_type": "code",
   "execution_count": 28,
   "id": "256d9c1d",
   "metadata": {},
   "outputs": [
    {
     "name": "stdout",
     "output_type": "stream",
     "text": [
      "There are exactly \"385\" individuals with \"age less than 18\" and \"capital loss less than 100\"\n"
     ]
    },
    {
     "data": {
      "text/html": [
       "<div>\n",
       "<style scoped>\n",
       "    .dataframe tbody tr th:only-of-type {\n",
       "        vertical-align: middle;\n",
       "    }\n",
       "\n",
       "    .dataframe tbody tr th {\n",
       "        vertical-align: top;\n",
       "    }\n",
       "\n",
       "    .dataframe thead th {\n",
       "        text-align: right;\n",
       "    }\n",
       "</style>\n",
       "<table border=\"1\" class=\"dataframe\">\n",
       "  <thead>\n",
       "    <tr style=\"text-align: right;\">\n",
       "      <th></th>\n",
       "      <th>age</th>\n",
       "      <th>workclass</th>\n",
       "      <th>fnlwgt</th>\n",
       "      <th>education</th>\n",
       "      <th>education.num</th>\n",
       "      <th>marital.status</th>\n",
       "      <th>occupation</th>\n",
       "      <th>relationship</th>\n",
       "      <th>race</th>\n",
       "      <th>sex</th>\n",
       "      <th>capital.gain</th>\n",
       "      <th>capital.loss</th>\n",
       "      <th>hours.per.week</th>\n",
       "      <th>native.country</th>\n",
       "      <th>income</th>\n",
       "    </tr>\n",
       "  </thead>\n",
       "  <tbody>\n",
       "    <tr>\n",
       "      <th>1680</th>\n",
       "      <td>17</td>\n",
       "      <td>Private</td>\n",
       "      <td>304873</td>\n",
       "      <td>10th</td>\n",
       "      <td>6</td>\n",
       "      <td>Never-married</td>\n",
       "      <td>Prof-specialty</td>\n",
       "      <td>Own-child</td>\n",
       "      <td>White</td>\n",
       "      <td>0</td>\n",
       "      <td>34095</td>\n",
       "      <td>0</td>\n",
       "      <td>32</td>\n",
       "      <td>United-States</td>\n",
       "      <td>1</td>\n",
       "    </tr>\n",
       "    <tr>\n",
       "      <th>3987</th>\n",
       "      <td>17</td>\n",
       "      <td>Private</td>\n",
       "      <td>175024</td>\n",
       "      <td>11th</td>\n",
       "      <td>7</td>\n",
       "      <td>Never-married</td>\n",
       "      <td>Handlers-cleaners</td>\n",
       "      <td>Own-child</td>\n",
       "      <td>White</td>\n",
       "      <td>1</td>\n",
       "      <td>2176</td>\n",
       "      <td>0</td>\n",
       "      <td>18</td>\n",
       "      <td>United-States</td>\n",
       "      <td>1</td>\n",
       "    </tr>\n",
       "    <tr>\n",
       "      <th>4151</th>\n",
       "      <td>17</td>\n",
       "      <td>Private</td>\n",
       "      <td>191260</td>\n",
       "      <td>9th</td>\n",
       "      <td>5</td>\n",
       "      <td>Never-married</td>\n",
       "      <td>Other-service</td>\n",
       "      <td>Own-child</td>\n",
       "      <td>White</td>\n",
       "      <td>1</td>\n",
       "      <td>1055</td>\n",
       "      <td>0</td>\n",
       "      <td>24</td>\n",
       "      <td>United-States</td>\n",
       "      <td>1</td>\n",
       "    </tr>\n",
       "    <tr>\n",
       "      <th>4154</th>\n",
       "      <td>17</td>\n",
       "      <td>Private</td>\n",
       "      <td>333100</td>\n",
       "      <td>10th</td>\n",
       "      <td>6</td>\n",
       "      <td>Never-married</td>\n",
       "      <td>Prof-specialty</td>\n",
       "      <td>Own-child</td>\n",
       "      <td>White</td>\n",
       "      <td>1</td>\n",
       "      <td>1055</td>\n",
       "      <td>0</td>\n",
       "      <td>30</td>\n",
       "      <td>United-States</td>\n",
       "      <td>1</td>\n",
       "    </tr>\n",
       "    <tr>\n",
       "      <th>4156</th>\n",
       "      <td>17</td>\n",
       "      <td>Private</td>\n",
       "      <td>103851</td>\n",
       "      <td>11th</td>\n",
       "      <td>7</td>\n",
       "      <td>Never-married</td>\n",
       "      <td>Adm-clerical</td>\n",
       "      <td>Own-child</td>\n",
       "      <td>White</td>\n",
       "      <td>0</td>\n",
       "      <td>1055</td>\n",
       "      <td>0</td>\n",
       "      <td>20</td>\n",
       "      <td>United-States</td>\n",
       "      <td>1</td>\n",
       "    </tr>\n",
       "    <tr>\n",
       "      <th>...</th>\n",
       "      <td>...</td>\n",
       "      <td>...</td>\n",
       "      <td>...</td>\n",
       "      <td>...</td>\n",
       "      <td>...</td>\n",
       "      <td>...</td>\n",
       "      <td>...</td>\n",
       "      <td>...</td>\n",
       "      <td>...</td>\n",
       "      <td>...</td>\n",
       "      <td>...</td>\n",
       "      <td>...</td>\n",
       "      <td>...</td>\n",
       "      <td>...</td>\n",
       "      <td>...</td>\n",
       "    </tr>\n",
       "    <tr>\n",
       "      <th>31869</th>\n",
       "      <td>17</td>\n",
       "      <td>Private</td>\n",
       "      <td>256173</td>\n",
       "      <td>10th</td>\n",
       "      <td>6</td>\n",
       "      <td>Never-married</td>\n",
       "      <td>Prof-specialty</td>\n",
       "      <td>Own-child</td>\n",
       "      <td>White</td>\n",
       "      <td>0</td>\n",
       "      <td>0</td>\n",
       "      <td>0</td>\n",
       "      <td>15</td>\n",
       "      <td>United-States</td>\n",
       "      <td>1</td>\n",
       "    </tr>\n",
       "    <tr>\n",
       "      <th>31948</th>\n",
       "      <td>17</td>\n",
       "      <td>Private</td>\n",
       "      <td>214787</td>\n",
       "      <td>12th</td>\n",
       "      <td>8</td>\n",
       "      <td>Never-married</td>\n",
       "      <td>Adm-clerical</td>\n",
       "      <td>Own-child</td>\n",
       "      <td>White</td>\n",
       "      <td>0</td>\n",
       "      <td>0</td>\n",
       "      <td>0</td>\n",
       "      <td>25</td>\n",
       "      <td>United-States</td>\n",
       "      <td>1</td>\n",
       "    </tr>\n",
       "    <tr>\n",
       "      <th>32035</th>\n",
       "      <td>17</td>\n",
       "      <td>Private</td>\n",
       "      <td>24090</td>\n",
       "      <td>HS-grad</td>\n",
       "      <td>9</td>\n",
       "      <td>Never-married</td>\n",
       "      <td>Exec-managerial</td>\n",
       "      <td>Own-child</td>\n",
       "      <td>White</td>\n",
       "      <td>0</td>\n",
       "      <td>0</td>\n",
       "      <td>0</td>\n",
       "      <td>35</td>\n",
       "      <td>United-States</td>\n",
       "      <td>1</td>\n",
       "    </tr>\n",
       "    <tr>\n",
       "      <th>32310</th>\n",
       "      <td>17</td>\n",
       "      <td>Private</td>\n",
       "      <td>311907</td>\n",
       "      <td>11th</td>\n",
       "      <td>7</td>\n",
       "      <td>Never-married</td>\n",
       "      <td>Other-service</td>\n",
       "      <td>Own-child</td>\n",
       "      <td>White</td>\n",
       "      <td>1</td>\n",
       "      <td>0</td>\n",
       "      <td>0</td>\n",
       "      <td>25</td>\n",
       "      <td>United-States</td>\n",
       "      <td>1</td>\n",
       "    </tr>\n",
       "    <tr>\n",
       "      <th>32457</th>\n",
       "      <td>17</td>\n",
       "      <td>Private</td>\n",
       "      <td>117798</td>\n",
       "      <td>10th</td>\n",
       "      <td>6</td>\n",
       "      <td>Never-married</td>\n",
       "      <td>Other-service</td>\n",
       "      <td>Own-child</td>\n",
       "      <td>White</td>\n",
       "      <td>1</td>\n",
       "      <td>0</td>\n",
       "      <td>0</td>\n",
       "      <td>20</td>\n",
       "      <td>United-States</td>\n",
       "      <td>1</td>\n",
       "    </tr>\n",
       "  </tbody>\n",
       "</table>\n",
       "<p>385 rows × 15 columns</p>\n",
       "</div>"
      ],
      "text/plain": [
       "       age workclass  fnlwgt education  education.num marital.status  \\\n",
       "1680    17   Private  304873      10th              6  Never-married   \n",
       "3987    17   Private  175024      11th              7  Never-married   \n",
       "4151    17   Private  191260       9th              5  Never-married   \n",
       "4154    17   Private  333100      10th              6  Never-married   \n",
       "4156    17   Private  103851      11th              7  Never-married   \n",
       "...    ...       ...     ...       ...            ...            ...   \n",
       "31869   17   Private  256173      10th              6  Never-married   \n",
       "31948   17   Private  214787      12th              8  Never-married   \n",
       "32035   17   Private   24090   HS-grad              9  Never-married   \n",
       "32310   17   Private  311907      11th              7  Never-married   \n",
       "32457   17   Private  117798      10th              6  Never-married   \n",
       "\n",
       "              occupation relationship   race  sex  capital.gain  capital.loss  \\\n",
       "1680      Prof-specialty    Own-child  White    0         34095             0   \n",
       "3987   Handlers-cleaners    Own-child  White    1          2176             0   \n",
       "4151       Other-service    Own-child  White    1          1055             0   \n",
       "4154      Prof-specialty    Own-child  White    1          1055             0   \n",
       "4156        Adm-clerical    Own-child  White    0          1055             0   \n",
       "...                  ...          ...    ...  ...           ...           ...   \n",
       "31869     Prof-specialty    Own-child  White    0             0             0   \n",
       "31948       Adm-clerical    Own-child  White    0             0             0   \n",
       "32035    Exec-managerial    Own-child  White    0             0             0   \n",
       "32310      Other-service    Own-child  White    1             0             0   \n",
       "32457      Other-service    Own-child  White    1             0             0   \n",
       "\n",
       "       hours.per.week native.country  income  \n",
       "1680               32  United-States       1  \n",
       "3987               18  United-States       1  \n",
       "4151               24  United-States       1  \n",
       "4154               30  United-States       1  \n",
       "4156               20  United-States       1  \n",
       "...               ...            ...     ...  \n",
       "31869              15  United-States       1  \n",
       "31948              25  United-States       1  \n",
       "32035              35  United-States       1  \n",
       "32310              25  United-States       1  \n",
       "32457              20  United-States       1  \n",
       "\n",
       "[385 rows x 15 columns]"
      ]
     },
     "execution_count": 28,
     "metadata": {},
     "output_type": "execute_result"
    }
   ],
   "source": [
    "print('There are exactly \"385\" individuals with \"age less than 18\" and \"capital loss less than 100\"')\n",
    "\n",
    "data = df[(df['age']<18) & (df['capital.loss']<100)]\n",
    "data\n",
    "\n"
   ]
  },
  {
   "cell_type": "markdown",
   "id": "c81d8340",
   "metadata": {},
   "source": [
    "# 12.Which occupation has the highest number of males?"
   ]
  },
  {
   "cell_type": "code",
   "execution_count": 19,
   "id": "9fce77e6",
   "metadata": {},
   "outputs": [
    {
     "name": "stdout",
     "output_type": "stream",
     "text": [
      "Craft-repair occupation has the highest number of 3877 males\n"
     ]
    },
    {
     "data": {
      "text/plain": [
       "occupation    sex\n",
       "Craft-repair  1      3877\n",
       "Name: sex, dtype: int64"
      ]
     },
     "execution_count": 19,
     "metadata": {},
     "output_type": "execute_result"
    }
   ],
   "source": [
    "print(\"Craft-repair occupation has the highest number of 3877 males\")\n",
    "data = df.groupby('occupation')\n",
    "data = data['sex'].value_counts()[data['sex'].value_counts() == data['sex'].value_counts().max()]\n",
    "data\n",
    "\n",
    "\n"
   ]
  },
  {
   "cell_type": "markdown",
   "id": "e30eb112",
   "metadata": {},
   "source": [
    "# 13.Analyze the trend of the capital gain amount for different educational qualifications and write your observations."
   ]
  },
  {
   "cell_type": "code",
   "execution_count": 20,
   "id": "84e1a8f4",
   "metadata": {},
   "outputs": [
    {
     "data": {
      "image/png": "[encoded data removed]",
      "text/plain": [
       "<Figure size 4000x500 with 1 Axes>"
      ]
     },
     "metadata": {},
     "output_type": "display_data"
    },
    {
     "name": "stdout",
     "output_type": "stream",
     "text": [
      "\n",
      "# Interpretation\n",
      "- Bachelors education having more and high capital.gain of 9404984\n",
      "- There is a turning point after 12th of sudden jump to 123010 there is capital.gain has improved gradually before it was linear and constant\n",
      "- But there is drop after Prof-school which is 'Assoc-acdm','Assoc-voc' and after there is again jump in the bachelors\n",
      "- We can say, those two categories are having a rough capital.gain \n",
      "\n",
      "# Conclusion\n",
      "Through out education time-period\n",
      "    - there is rough time in Assoc-acdm, Assoc-voc & Masters, Doctorate\n",
      "    - there is good time after 12th and Assoc-voc\n",
      "\n"
     ]
    }
   ],
   "source": [
    "\n",
    "\n",
    "data = df.groupby('education')['capital.gain'].sum().reset_index()\n",
    "data['education'] = pd.Categorical(data['education'], ['Preschool','1st-4th','5th-6th','7th-8th','9th','10th','11th','12th','Some-college','HS-grad','Prof-school','Assoc-acdm','Assoc-voc','Bachelors','Masters','Doctorate'])\n",
    "# print(data)\n",
    "\n",
    "# plot : line \n",
    "fig, ax = plt.subplots(figsize=(40, 5))\n",
    "sns.lineplot(x=data['education'],y=data['capital.gain'],marker='o',color='r',ax=ax)\n",
    "plt.title('Education Vs Capital.gain')\n",
    "plt.show()\n",
    "\n",
    "# observations\n",
    "print('''\n",
    "# Interpretation\n",
    "- Bachelors education having more and high capital.gain of 9404984\n",
    "- There is a turning point after 12th of sudden jump to 123010 there is capital.gain has improved gradually before it was linear and constant\n",
    "- But there is drop after Prof-school which is 'Assoc-acdm','Assoc-voc' and after there is again jump in the bachelors\n",
    "- We can say, those two categories are having a rough capital.gain \n",
    "\n",
    "# Conclusion\n",
    "Through out education time-period\n",
    "    - there is rough time in Assoc-acdm, Assoc-voc & Masters, Doctorate\n",
    "    - there is good time after 12th and Assoc-voc\n",
    "''')"
   ]
  },
  {
   "cell_type": "markdown",
   "id": "e0268e52",
   "metadata": {},
   "source": [
    "# 14.Compare the working hours for each working class and write your observations."
   ]
  },
  {
   "cell_type": "code",
   "execution_count": 21,
   "id": "91229dcd",
   "metadata": {},
   "outputs": [
    {
     "name": "stdout",
     "output_type": "stream",
     "text": [
      "workclass\n",
      "Federal-gov         4.681640\n",
      "Local-gov           3.804723\n",
      "Self-emp-inc        3.511988\n",
      "Private             3.366352\n",
      "State-gov           3.336885\n",
      "Self-emp-not-inc    2.663988\n",
      "Without-pay         1.884691\n",
      "Never-worked        1.872007\n",
      "Name: hours.per.week, dtype: float64\n",
      "\n",
      "On an average, The working class has 3.1402842511273694\n",
      "\n",
      "'Federal-gov'       : there is no much difference between mean and median of 1.379167 and ranges from 4 - 99\n",
      "'Local-gov'         : there is no much difference between mean and median of 0.9828 and ranges from 2 - 99\n",
      "'Never-worked'      : there are extreme values in the data so the mean and median vary of 6.571429 and ranges from 4 - 40\n",
      "'Private'           : there is no much difference between mean and median of 0.267096 and ranges from 1 - 99\n",
      "'Self-emp-inc'      : there are extreme values in the data so the mean and median vary of 1.1819 and ranges from 1 - 99\n",
      "'Self-emp-not-inc'  : there are extreme values in the data so the mean and median vary of 4.421881 and ranges from 1 - 99 \n",
      "'State-gov'         : there is no much difference between mean and median of 0.968413 and ranges from 1 - 99\n",
      "'Without-pay'       : there are extreme values in the data so the mean and median vary of 5.214286 and ranges from 10 - 65   \n",
      "\n",
      "We can compare the working hours for each working class by coefficient of variation\n",
      "- The Category \"Federal-gov\" is working higher than the remaining working class\n",
      "- The Category \"Never-worked\" is working lower than the remaining working class\n",
      "\n"
     ]
    }
   ],
   "source": [
    "\n",
    "data = pd.pivot_table(data=df,index='workclass',values='hours.per.week',aggfunc={'hours.per.week':['count','sum','max','min','mean','median','var','std']}).T\n",
    "\n",
    "# coefficent of variation : mean / std\n",
    "m = df.groupby('workclass')['hours.per.week'].mean()\n",
    "s = df.groupby('workclass')['hours.per.week'].std()\n",
    "\n",
    "data = m / s\n",
    "print(data.sort_values(ascending=False),end='\\n\\n')\n",
    "print(f'On an average, The working class has {data.mean()}')\n",
    "\n",
    "# observation\n",
    "print(\"\"\"\n",
    "'Federal-gov'       : there is no much difference between mean and median of 1.379167 and ranges from 4 - 99\n",
    "'Local-gov'         : there is no much difference between mean and median of 0.9828 and ranges from 2 - 99\n",
    "'Never-worked'      : there are extreme values in the data so the mean and median vary of 6.571429 and ranges from 4 - 40\n",
    "'Private'           : there is no much difference between mean and median of 0.267096 and ranges from 1 - 99\n",
    "'Self-emp-inc'      : there are extreme values in the data so the mean and median vary of 1.1819 and ranges from 1 - 99\n",
    "'Self-emp-not-inc'  : there are extreme values in the data so the mean and median vary of 4.421881 and ranges from 1 - 99 \n",
    "'State-gov'         : there is no much difference between mean and median of 0.968413 and ranges from 1 - 99\n",
    "'Without-pay'       : there are extreme values in the data so the mean and median vary of 5.214286 and ranges from 10 - 65   \n",
    "\"\"\")\n",
    "\n",
    "print(\"\"\"We can compare the working hours for each working class by coefficient of variation\n",
    "- The Category \"Federal-gov\" is working higher than the remaining working class\n",
    "- The Category \"Never-worked\" is working lower than the remaining working class\n",
    "\"\"\")"
   ]
  },
  {
   "cell_type": "markdown",
   "id": "e1e30ce4",
   "metadata": {},
   "source": [
    "# 15.Is there an all male profession according to the data?"
   ]
  },
  {
   "cell_type": "code",
   "execution_count": 22,
   "id": "ac01e164",
   "metadata": {},
   "outputs": [
    {
     "name": "stdout",
     "output_type": "stream",
     "text": [
      "('Armed-Forces', 1, 9)\n",
      "There is an all male profession according to the data Armed-Forces with count of 9\n"
     ]
    }
   ],
   "source": [
    "data = pd.pivot_table(df,index=['sex','occupation'],aggfunc='count').reset_index()\n",
    "data\n",
    "\n",
    "data = df.groupby(['occupation','sex'])['sex'].count()\n",
    "\n",
    "d = {}\n",
    "for i in data.index:\n",
    "    if i[0] in d:\n",
    "        d[i[0]].append(i[1])\n",
    "    else:\n",
    "        d[i[0]] = [i[1]]\n",
    "\n",
    "# checking the one value\n",
    "data = [(i,d[i][0],data[i][1]) for i in d if len(d[i])==1 and d[i][0]==1][0]\n",
    "print(data)\n",
    "\n",
    "# # representation\n",
    "print(f'There is an all male profession according to the data {data[0]} with count of {data[2]}')"
   ]
  }
 ],
 "metadata": {
  "kernelspec": {
   "display_name": "Python 3 (ipykernel)",
   "language": "python",
   "name": "python3"
  },
  "language_info": {
   "codemirror_mode": {
    "name": "ipython",
    "version": 3
   },
   "file_extension": ".py",
   "mimetype": "text/x-python",
   "name": "python",
   "nbconvert_exporter": "python",
   "pygments_lexer": "ipython3",
   "version": "3.10.7"
  },
  "vscode": {
   "interpreter": {
    "hash": "aee8b7b246df8f9039afb4144a1f6fd8d2ca17a180786b69acc140d282b71a49"
   }
  }
 },
 "nbformat": 4,
 "nbformat_minor": 5
}
