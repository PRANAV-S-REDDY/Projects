{
 "cells": [
  {
   "cell_type": "markdown",
   "id": "d0c024ee",
   "metadata": {},
   "source": [
    "<img src=\"http://drive.google.com/uc?export=view&id=1JzM1Jig5KAOCvU4tIf2t66B3gd1uy1rG\" width=500px>\n",
    "\n",
    "Proprietary content. Â© Great Learning. All Rights Reserved. Unauthorized use or distribution prohibited."
   ]
  },
  {
   "cell_type": "markdown",
   "id": "0541d996",
   "metadata": {},
   "source": [
    "# PRANAV .S"
   ]
  },
  {
   "cell_type": "markdown",
   "id": "b4d76878",
   "metadata": {},
   "source": [
    "### <font color=\"blue\">Implement a Simple banking Application that has the following features:</font>\n",
    "\n",
    "1. Creating a new account\n",
    "2. Depositing money to an account\n",
    "3. Withdrawing money from an account.  \n",
    "Also, handle the case where we have insufficient funds during withdrawal.\n"
   ]
  },
  {
   "cell_type": "code",
   "execution_count": 1,
   "id": "b10afac3",
   "metadata": {},
   "outputs": [],
   "source": [
    "# Accounts used as global variables with stores the account numbers with the respective amount in them\n",
    "# Pair in dcitionary : <account_number, amount>\n",
    "ACCOUNTS = dict()"
   ]
  },
  {
   "cell_type": "code",
   "execution_count": 2,
   "id": "318b1a5f",
   "metadata": {},
   "outputs": [],
   "source": [
    "# These variables enumerate the available options in banking application\n",
    "NEW_ACCOUNT = 1\n",
    "DEPOSIT = 2\n",
    "WITHDRAW = 3\n",
    "SHOW_BALANCE = 4\n",
    "QUIT = 5"
   ]
  },
  {
   "cell_type": "code",
   "execution_count": 3,
   "id": "a4ed2e8e",
   "metadata": {},
   "outputs": [],
   "source": [
    " # code to create a new account\n",
    "    \n",
    "def create_new_account(account_number):\n",
    "    if account_number in ACCOUNTS:\n",
    "        print(\"ACCOUNT ALREADY EXISTS\")\n",
    "    else:\n",
    "        ACCOUNTS[account_number]=0\n",
    "        print(\"Account Created Successfuly\")"
   ]
  },
  {
   "cell_type": "code",
   "execution_count": 17,
   "id": "5fb9090e",
   "metadata": {},
   "outputs": [],
   "source": [
    "# code to withdraw money \n",
    "def withdraw(account_number, amount):\n",
    "    if account_number in ACCOUNTS:\n",
    "        if ACCOUNTS[account_number] > amount:\n",
    "            ACCOUNTS[account_number] = ACCOUNTS[account_number] - amount\n",
    "            print('successfully debit')\n",
    "        else:\n",
    "            print('Insufficient balance!')\n",
    "    else:\n",
    "        print(\"Account number Doesn't exisit's\")"
   ]
  },
  {
   "cell_type": "code",
   "execution_count": 5,
   "id": "0223d2d2",
   "metadata": {},
   "outputs": [],
   "source": [
    "#code to deposit money \n",
    "def deposit(acc_no, amount):\n",
    "    if  account_number in ACCOUNTS:\n",
    "        ACCOUNTS[account_number] = ACCOUNTS[account_number] + amount\n",
    "        print('Amount Successfully credit')\n",
    "    else:\n",
    "        print(\"Account number Doesn't exisit's\") "
   ]
  },
  {
   "cell_type": "code",
   "execution_count": 6,
   "id": "99035fa0",
   "metadata": {},
   "outputs": [],
   "source": [
    "# code to show balance\n",
    "def show_balance(acc_no):\n",
    "    if acc_no in ACCOUNTS:\n",
    "        print(ACCOUNTS[acc_no])\n",
    "    else:\n",
    "        print(\"Account number Doesn't exisit's\")"
   ]
  },
  {
   "cell_type": "code",
   "execution_count": 7,
   "id": "b9c85210",
   "metadata": {},
   "outputs": [],
   "source": [
    "def show_menu():\n",
    "    print(\"\\n1. New Account Opening\")\n",
    "    print(\"2. Deposit money to account\")\n",
    "    print(\"3. Withdraw money from account\")\n",
    "    print(\"4. Show balance\")\n",
    "    print(\"5. Quit\")"
   ]
  },
  {
   "cell_type": "markdown",
   "id": "04c64537",
   "metadata": {},
   "source": [
    "#### Driver Code for running baning Application"
   ]
  },
  {
   "cell_type": "code",
   "execution_count": null,
   "id": "ced6f7d4",
   "metadata": {},
   "outputs": [],
   "source": [
    "if __name__ == \"__main__\":\n",
    "    while(True):\n",
    "        show_menu()\n",
    "        \n",
    "        choice = int(input('\\nEnter the operation to be performed : '))\n",
    "        \n",
    "        \n",
    "        if choice == NEW_ACCOUNT:\n",
    "            account_number = input('\\nEnter account number for new account opening : ')\n",
    "            \n",
    "            create_new_account(account_number)\n",
    "            \n",
    "        elif choice == DEPOSIT:\n",
    "            account_number = input('\\nEnter the accout number for depositing money : ')\n",
    "            amount = int(input('Enter amount for depositing money : '))\n",
    "            \n",
    "            deposit(account_number, amount)\n",
    "            \n",
    "        elif choice == WITHDRAW:\n",
    "            acc_number = input('\\nEnter the accout number for withdrawing money : ')\n",
    "            amount = int(input('Enter amount for withdrawing money : '))\n",
    "            \n",
    "            withdraw(account_number, amount)\n",
    "            \n",
    "            \n",
    "        elif choice == SHOW_BALANCE:\n",
    "            account_number = input('\\nEnter the accout number for showing account balance : ')\n",
    "            \n",
    "            show_balance(account_number)\n",
    "            \n",
    "        elif choice == QUIT:\n",
    "            print(\"\\nThanks for banking with us\")\n",
    "            break"
   ]
  },
  {
   "cell_type": "code",
   "execution_count": null,
   "id": "1b878592",
   "metadata": {},
   "outputs": [],
   "source": [
    "# New account 5678 created\n",
    "# 5000 deposited in the account"
   ]
  }
 ],
 "metadata": {
  "kernelspec": {
   "display_name": "Python 3 (ipykernel)",
   "language": "python",
   "name": "python3"
  },
  "language_info": {
   "codemirror_mode": {
    "name": "ipython",
    "version": 3
   },
   "file_extension": ".py",
   "mimetype": "text/x-python",
   "name": "python",
   "nbconvert_exporter": "python",
   "pygments_lexer": "ipython3",
   "version": "3.10.7"
  }
 },
 "nbformat": 4,
 "nbformat_minor": 5
}
